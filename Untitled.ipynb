{
 "cells": [
  {
   "cell_type": "code",
   "execution_count": null,
   "metadata": {
    "collapsed": true
   },
   "outputs": [],
   "source": [
    "import numpy as np\n",
    "from numpy.linalg import norm\n",
    "from sklearn import linear_model\n",
    "from sklearn.cluster import KMeans"
   ]
  },
  {
   "cell_type": "code",
   "execution_count": null,
   "metadata": {
    "collapsed": false
   },
   "outputs": [],
   "source": [
    "prices=(1,3,5,4,9,6,7,8,9,10)\n",
    "n=3\n",
    "m = len(prices) - n\n",
    "ts = np.empty((m, n + 1))\n",
    "\n",
    "for i in range(m):\n",
    "    ts[i, :n] = prices[i:i + n]\n",
    "    ts[i, n] = prices[i + n] - prices[i + n - 1]\n"
   ]
  },
  {
   "cell_type": "code",
   "execution_count": null,
   "metadata": {
    "collapsed": false
   },
   "outputs": [],
   "source": [
    "ts"
   ]
  },
  {
   "cell_type": "code",
   "execution_count": null,
   "metadata": {
    "collapsed": false
   },
   "outputs": [],
   "source": [
    "from sklearn.cluster import KMeans"
   ]
  },
  {
   "cell_type": "code",
   "execution_count": null,
   "metadata": {
    "collapsed": false
   },
   "outputs": [],
   "source": [
    " k_means = KMeans(n_clusters=3)"
   ]
  },
  {
   "cell_type": "code",
   "execution_count": null,
   "metadata": {
    "collapsed": false
   },
   "outputs": [],
   "source": [
    "k_means.fit(ts)"
   ]
  },
  {
   "cell_type": "code",
   "execution_count": null,
   "metadata": {
    "collapsed": false
   },
   "outputs": [],
   "source": [
    "centers=k_means.cluster_centers_\n",
    "print centers"
   ]
  },
  {
   "cell_type": "code",
   "execution_count": null,
   "metadata": {
    "collapsed": true
   },
   "outputs": [],
   "source": [
    "%matplotlib inline\n",
    "import matplotlib.pyplot as plt"
   ]
  },
  {
   "cell_type": "code",
   "execution_count": null,
   "metadata": {
    "collapsed": false
   },
   "outputs": [],
   "source": [
    "plt.scatter(centers[:, 0], centers[:, 1], c='black', s=200, alpha=0.5);"
   ]
  },
  {
   "cell_type": "code",
   "execution_count": null,
   "metadata": {
    "collapsed": false
   },
   "outputs": [],
   "source": [
    "np.ptp(centers, axis=0)"
   ]
  },
  {
   "cell_type": "code",
   "execution_count": null,
   "metadata": {
    "collapsed": false
   },
   "outputs": [],
   "source": [
    "a = np.array([[3,7],[8,4],[2,5]]) \n",
    "print a"
   ]
  },
  {
   "cell_type": "code",
   "execution_count": null,
   "metadata": {
    "collapsed": false
   },
   "outputs": [],
   "source": [
    "np.ptp(a) "
   ]
  },
  {
   "cell_type": "code",
   "execution_count": null,
   "metadata": {
    "collapsed": false
   },
   "outputs": [],
   "source": [
    "np.ptp(a, axis =  0)  "
   ]
  },
  {
   "cell_type": "code",
   "execution_count": null,
   "metadata": {
    "collapsed": false
   },
   "outputs": [],
   "source": [
    "import seaborn as sns\n",
    "import pandas as pd\n",
    "import numpy as np\n",
    "\n",
    "import matplotlib.pyplot as plt\n",
    "\n",
    "%matplotlib  inline\n",
    "priceData=pd.read_csv('priceData.csv',index_col='Date',parse_dates=True,infer_datetime_format=False)\n",
    "futuresData=pd.read_csv('futures.csv',index_col='日期',parse_dates=True,infer_datetime_format=False)\n",
    "futuresData.rename(columns={'多方交易口數': 'buyDeals','空方交易口數':'sellDeals','日期':'Date'}, inplace=True)\n",
    "\n",
    "CloseData=priceData['Close']\n",
    "QFIIData=futuresData[futuresData['身份別']=='外資及陸資'][['buyDeals','sellDeals']]\n",
    "mergeData=QFIIData.join(CloseData)"
   ]
  },
  {
   "cell_type": "code",
   "execution_count": null,
   "metadata": {
    "collapsed": false
   },
   "outputs": [],
   "source": [
    "prices=mergeData['Close'].values\n",
    "v_bid=mergeData['buyDeals'].values\n",
    "v_ask=mergeData['sellDeals'].values"
   ]
  },
  {
   "cell_type": "code",
   "execution_count": null,
   "metadata": {
    "collapsed": false
   },
   "outputs": [],
   "source": [
    "def generate_timeseries(prices, n):\n",
    "    \"\"\"Use the first time period to generate all possible time series of length n\n",
    "       and their corresponding label.\n",
    "    Args:\n",
    "        prices: A numpy array of floats representing prices over the first time\n",
    "            period.\n",
    "        n: An integer (180, 360, or 720) representing the length of time series.\n",
    "    Returns:\n",
    "        A 2-dimensional numpy array of size (len(prices)-n) x (n+1). Each row\n",
    "        represents a time series of length n and its corresponding label\n",
    "        (n+1-th column).\n",
    "    \"\"\"\n",
    "    m = len(prices) - n\n",
    "    ts = np.empty((m, n + 1))\n",
    "    for i in range(m):\n",
    "        ts[i, :n] = prices[i:i + n]\n",
    "        ts[i, n] = prices[i + n] - prices[i + n - 1]\n",
    "    return ts\n",
    "\n",
    "\n",
    "def find_cluster_centers(timeseries, k):\n",
    "    \"\"\"Cluster timeseries in k clusters using k-means and return k cluster centers.\n",
    "    Args:\n",
    "        timeseries: A 2-dimensional numpy array generated by generate_timeseries().\n",
    "        k: An integer representing the number of centers (e.g. 100).\n",
    "    Returns:\n",
    "        A 2-dimensional numpy array of size k x num_columns(timeseries). Each\n",
    "        row represents a cluster center.\n",
    "    \"\"\"\n",
    "    k_means = KMeans(n_clusters=k)\n",
    "    k_means.fit(timeseries)\n",
    "    return k_means.cluster_centers_\n",
    "\n",
    "\n",
    "def choose_effective_centers(centers, n):\n",
    "    \"\"\"Choose n most effective cluster centers with high price variation.\"\"\"\n",
    "    return centers[np.argsort(np.ptp(centers, axis=1))[-n:]]\n",
    "\n",
    "\n",
    "def predict_dpi(x, s):\n",
    "    \"\"\"Predict the average price change Δp_i, 1 <= i <= 3.\n",
    "    Args:\n",
    "        x: A numpy array of floats representing previous 180, 360, or 720 prices.\n",
    "        s: A 2-dimensional numpy array generated by choose_effective_centers().\n",
    "    Returns:\n",
    "        A big float representing average price change Δp_i.\n",
    "    \"\"\"\n",
    "    num = 0\n",
    "    den = 0\n",
    "    for i in range(len(s)):\n",
    "        y_i = s[i, len(x)]\n",
    "        x_i = s[i, :len(x)]\n",
    "        exp = bg.exp(-0.25 * norm(x - x_i) ** 2)\n",
    "        num += y_i * exp\n",
    "        den += exp\n",
    "    return num / den\n",
    "\n",
    "\n",
    "def linear_regression_vars(prices, v_bid, v_ask, s1, s2, s3):\n",
    "    \"\"\"Use the second time period to generate the independent and dependent variables\n",
    "       in the linear regression model Δp = w0 + w1 * Δp1 + w2 * Δp2 + w3 * Δp3 + w4 * r.\n",
    "    Args:\n",
    "        prices: A numpy array of floats representing prices over the second time\n",
    "            period.\n",
    "        v_bid: A numpy array of floats representing total volumes people are\n",
    "            willing to buy over the second time period.\n",
    "        v_ask: A numpy array of floats representing total volumes people are\n",
    "            willing to sell over the second time period.\n",
    "        s1: A 2-dimensional numpy array generated by choose_effective_centers()\n",
    "        s2: A 2-dimensional numpy array generated by choose_effective_centers().\n",
    "        s3: A 2-dimensional numpy array generated by choose_effective_centers().\n",
    "    Returns:\n",
    "        A tuple (X, Y) representing the independent and dependent variables in\n",
    "        the linear regression model. X is a 2-dimensional numpy array and each\n",
    "        row represents [Δp1, Δp2, Δp3, r]. Y is a numpy array of floats and\n",
    "        each array element represents Δp.\n",
    "    \"\"\"\n",
    "    X = np.empty((len(prices) - 73, 4))\n",
    "    Y = np.empty(len(prices) - 73)\n",
    "    for i in range(72, len(prices) - 1):\n",
    "        dp = prices[i + 1] - prices[i]\n",
    "        dp1 = predict_dpi(prices[i - 18:i], s1)\n",
    "        dp2 = predict_dpi(prices[i - 36:i], s2)\n",
    "        dp3 = predict_dpi(prices[i - 72:i], s3)\n",
    "        r = (v_bid[i] - v_ask[i]) / (v_bid[i] + v_ask[i])\n",
    "        X[i - 72, :] = [dp1, dp2, dp3, r]\n",
    "        Y[i - 72] = dp\n",
    "    return X, Y\n",
    "\n",
    "\n",
    "def find_parameters_w(X, Y):\n",
    "    \"\"\"Find the parameter values w for the model which best fits X and Y.\n",
    "    Args:\n",
    "        X: A 2-dimensional numpy array representing the independent variables\n",
    "            in the linear regression model.\n",
    "        Y: A numpy array of floats representing the dependent variables in the\n",
    "            linear regression model.\n",
    "    Returns:\n",
    "        A tuple (w0, w1, w2, w3, w4) representing the parameter values w.\n",
    "    \"\"\"\n",
    "    clf = linear_model.LinearRegression()\n",
    "    clf.fit(X, Y)\n",
    "    w0 = clf.intercept_\n",
    "    w1, w2, w3, w4 = clf.coef_\n",
    "    return w0, w1, w2, w3, w4\n",
    "\n",
    "\n",
    "def predict_dps(prices, v_bid, v_ask, s1, s2, s3, w):\n",
    "    \"\"\"Predict average price changes (final estimations Δp) over the third\n",
    "       time period.\n",
    "    Args:\n",
    "        prices: A numpy array of floats representing prices over the third time\n",
    "            period.\n",
    "        v_bid: A numpy array of floats representing total volumes people are\n",
    "            willing to buy over the third time period.\n",
    "        v_ask: A numpy array of floats representing total volumes people are\n",
    "            willing to sell over the third time period.\n",
    "        s1: A 2-dimensional numpy array generated by choose_effective_centers()\n",
    "        s2: A 2-dimensional numpy array generated by choose_effective_centers().\n",
    "        s3: A 2-dimensional numpy array generated by choose_effective_centers().\n",
    "        w: A tuple (w0, w1, w2, w3, w4) generated by find_parameters_w().\n",
    "    Returns:\n",
    "        A numpy array of floats. Each array element represents the final\n",
    "        estimation Δp.\n",
    "    \"\"\"\n",
    "    dps = []\n",
    "    w0, w1, w2, w3, w4 = w\n",
    "    for i in range(72, len(prices) - 1):\n",
    "        dp1 = predict_dpi(prices[i - 18:i], s1)\n",
    "        dp2 = predict_dpi(prices[i - 36:i], s2)\n",
    "        dp3 = predict_dpi(prices[i - 72:i], s3)\n",
    "        r = (v_bid[i] - v_ask[i]) / (v_bid[i] + v_ask[i])\n",
    "        dp = w0 + w1 * dp1 + w2 * dp2 + w3 * dp3 + w4 * r\n",
    "        dps.append(float(dp))\n",
    "    return dps\n",
    "\n",
    "\n",
    "def evaluate_performance(prices, dps, t, step):\n",
    "    \"\"\"Use the third time period to evaluate the performance of the algorithm.\n",
    "    Args:\n",
    "        prices: A numpy array of floats representing prices over the third time\n",
    "            period.\n",
    "        dps: A numpy array of floats generated by predict_dps().\n",
    "        t: A number representing a threshold.\n",
    "        step: An integer representing time steps (when we make trading decisions).\n",
    "    Returns:\n",
    "        A number representing the bank balance.\n",
    "    \"\"\"\n",
    "    bank_balance = 0\n",
    "    position = 0\n",
    "    for i in range(720, len(prices) - 1, step):\n",
    "        # long position - BUY\n",
    "        if dps[i - 720] > t and position <= 0:\n",
    "            position += 1\n",
    "            bank_balance -= prices[i]\n",
    "        # short position - SELL\n",
    "        if dps[i - 720] < -t and position >= 0:\n",
    "            position -= 1\n",
    "            bank_balance += prices[i]\n",
    "    # sell what you bought\n",
    "    if position == 1:\n",
    "        bank_balance += prices[len(prices) - 1]\n",
    "    # pay back what you borrowed\n",
    "    if position == -1:\n",
    "        bank_balance -= prices[len(prices) - 1]\n",
    "    return bank_balance"
   ]
  },
  {
   "cell_type": "code",
   "execution_count": null,
   "metadata": {
    "collapsed": false
   },
   "outputs": [],
   "source": [
    "[prices1, prices2, prices3] = np.array_split(prices, 3)\n",
    "[v_bid1, v_bid2, v_bid3] = np.array_split(v_bid, 3)\n",
    "[v_ask1, v_ask2, v_ask3] = np.array_split(v_ask, 3)\n",
    "timeseries18 = generate_timeseries(prices1, 18)\n",
    "timeseries36 = generate_timeseries(prices1, 36)\n",
    "timeseries72 = generate_timeseries(prices1, 72)\n",
    "\n",
    "centers18 = find_cluster_centers(timeseries18, 100)\n",
    "s1 = choose_effective_centers(centers18, 20)\n",
    "\n",
    "centers36 = find_cluster_centers(timeseries36, 100)\n",
    "s2 = choose_effective_centers(centers36, 20)\n",
    "\n",
    "centers72 = find_cluster_centers(timeseries72, 100)\n",
    "s3 = choose_effective_centers(centers72, 20)"
   ]
  },
  {
   "cell_type": "code",
   "execution_count": null,
   "metadata": {
    "collapsed": false
   },
   "outputs": [],
   "source": [
    "Dpi_r, Dp = linear_regression_vars(prices2, v_bid2, v_ask2, s1, s2, s3)"
   ]
  },
  {
   "cell_type": "code",
   "execution_count": null,
   "metadata": {
    "collapsed": true
   },
   "outputs": [],
   "source": []
  },
  {
   "cell_type": "code",
   "execution_count": null,
   "metadata": {
    "collapsed": true
   },
   "outputs": [],
   "source": []
  }
 ],
 "metadata": {
  "kernelspec": {
   "display_name": "Python 2",
   "language": "python",
   "name": "python2"
  },
  "language_info": {
   "codemirror_mode": {
    "name": "ipython",
    "version": 2
   },
   "file_extension": ".py",
   "mimetype": "text/x-python",
   "name": "python",
   "nbconvert_exporter": "python",
   "pygments_lexer": "ipython2",
   "version": "2.7.13"
  }
 },
 "nbformat": 4,
 "nbformat_minor": 2
}
