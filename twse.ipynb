{
 "cells": [
  {
   "cell_type": "code",
   "execution_count": null,
   "metadata": {
    "collapsed": true
   },
   "outputs": [],
   "source": [
    "import urllib2\n",
    "import json\n",
    "import sys,csv\n",
    "\n",
    "url = 'http://www.twse.com.tw/exchangeReport/MI_5MINS_INDEX?response=json&date=20171211'\n",
    "\n",
    "response = urllib2.urlopen(url)\n",
    "d = response.read()\n",
    "data = json.loads(d) \n",
    "date=data[\"date\"]\n",
    "index=data[\"data\"]\n",
    "\n",
    "\n",
    "outputFile = open(date+'.csv', 'wb')\n",
    "output = csv.writer(outputFile)\n",
    "output.writerow( [\"時間\",\"發行量加權股價指數\"])\n",
    "for row in index:\n",
    "    output.writerow( [row[0],row[1]])\n",
    "outputFile.close()"
   ]
  },
  {
   "cell_type": "code",
   "execution_count": null,
   "metadata": {
    "collapsed": true
   },
   "outputs": [],
   "source": []
  }
 ],
 "metadata": {
  "kernelspec": {
   "display_name": "Python 2",
   "language": "python",
   "name": "python2"
  }
 },
 "nbformat": 4,
 "nbformat_minor": 2
}
